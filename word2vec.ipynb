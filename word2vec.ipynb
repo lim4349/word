{
 "cells": [
  {
   "cell_type": "code",
   "execution_count": 3,
   "metadata": {},
   "outputs": [
    {
     "name": "stdout",
     "output_type": "stream",
     "text": [
      "[('것', 0.9386489391326904), ('미/세/먼/지', 0.937251091003418), ('노/후', 0.9370114803314209), ('발/전/소', 0.9361143112182617), ('문/제', 0.9359267950057983), ('대/통/령', 0.9352549314498901), ('석/탄', 0.9348628520965576), ('화/력/발/전/소', 0.9329261183738708), ('발/전', 0.9323825836181641), ('대/책', 0.9314172863960266)]\n"
     ]
    }
   ],
   "source": [
    "#!/usr/bin/env python\n",
    "# -*- coding: utf-8 -*-\n",
    "import sys\n",
    "from importlib import reload\n",
    "\n",
    "reload(sys)\n",
    "#sys.setdefaultencoding('utf-8') # \n",
    "\n",
    "# 데이터를 읽어옴\n",
    "from konlpy.corpus import kobill\n",
    "docs_ko = [kobill.open(i).read() for i in kobill.fileids()]\n",
    "\n",
    "# 토큰화\n",
    "from konlpy.tag import Okt; t = Okt()\n",
    "nouns = lambda d: ['/'.join(p) for p in t.nouns(d)]\n",
    "texts_ko = [nouns(doc) for doc in docs_ko]\n",
    "\n",
    "# 모델에 학습\n",
    "from gensim.models import word2vec\n",
    "wv_model_ko = word2vec.Word2Vec(texts_ko)\n",
    "wv_model_ko.init_sims(replace=True)\n",
    "wv_model_ko.save('ko_word2vec_e.model')\n",
    "\n",
    "# 출력\n",
    "print(wv_model_ko.wv.most_similar(nouns('원전')))"
   ]
  }
 ],
 "metadata": {
  "kernelspec": {
   "display_name": "Python 3",
   "language": "python",
   "name": "python3"
  },
  "language_info": {
   "codemirror_mode": {
    "name": "ipython",
    "version": 3
   },
   "file_extension": ".py",
   "mimetype": "text/x-python",
   "name": "python",
   "nbconvert_exporter": "python",
   "pygments_lexer": "ipython3",
   "version": "3.6.7"
  }
 },
 "nbformat": 4,
 "nbformat_minor": 2
}
